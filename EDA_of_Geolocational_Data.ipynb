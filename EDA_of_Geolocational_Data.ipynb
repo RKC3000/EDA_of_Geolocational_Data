{
 "cells": [
  {
   "cell_type": "code",
   "execution_count": 1,
   "id": "a52f9dfd-bb51-45af-9e86-2c50ee5eb477",
   "metadata": {},
   "outputs": [],
   "source": [
    "import pandas as pd"
   ]
  },
  {
   "cell_type": "code",
   "execution_count": 2,
   "id": "a5d1bdb8-54e5-4752-bb15-2d5907a87a3e",
   "metadata": {},
   "outputs": [],
   "source": [
    "data = pd.read_csv(\"archive/food_coded.csv\")"
   ]
  },
  {
   "cell_type": "code",
   "execution_count": 4,
   "id": "369a81e2-6012-4f7e-a473-69902d3e0ac0",
   "metadata": {},
   "outputs": [
    {
     "data": {
      "text/plain": [
       "(125, 61)"
      ]
     },
     "execution_count": 4,
     "metadata": {},
     "output_type": "execute_result"
    }
   ],
   "source": []
  },
  {
   "cell_type": "code",
   "execution_count": null,
   "id": "2f2ce2a6-45ea-495f-8b3a-783baf5e42ff",
   "metadata": {},
   "outputs": [],
   "source": []
  }
 ],
 "metadata": {
  "kernelspec": {
   "display_name": "Python 3 (ipykernel)",
   "language": "python",
   "name": "python3"
  },
  "language_info": {
   "codemirror_mode": {
    "name": "ipython",
    "version": 3
   },
   "file_extension": ".py",
   "mimetype": "text/x-python",
   "name": "python",
   "nbconvert_exporter": "python",
   "pygments_lexer": "ipython3",
   "version": "3.11.7"
  }
 },
 "nbformat": 4,
 "nbformat_minor": 5
}
